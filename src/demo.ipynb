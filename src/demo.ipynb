{
 "cells": [
  {
   "cell_type": "markdown",
   "metadata": {},
   "source": [
    "## AI Memory Sytem\n",
    "\n",
    "This is the demonstration of ai memory system\n",
    "\n",
    "<img src=\"../public/Memory.png\" width=100% height=500 />"
   ]
  },
  {
   "cell_type": "markdown",
   "metadata": {},
   "source": [
    "### Working Memory\n",
    "\n",
    "Working memory encompasses your active understanding and contextualization of immediate information requiring dynamic processing. For a chatbot, this represents the maintenance and manipulation of conversational context observed throughout real-time interactions.\n",
    "\n",
    "The type of information maintained in working memory consists of active messages and roles, current task/goal parameters, immediate state representations, and contextual processing requirements. This includes message history with associated metadata, conversation state vectors, goal hierarchies, and temporary computational results requiring immediate access.\n",
    "\n",
    "<img src=\"https://raw.githubusercontent.com/ALucek/agentic-memory/03eb349dd06f050e4e21bf51d4adace8fbb65524/media/working_diagram.png\" width=500 height=500>\n",
    "\n",
    "It's like a mental workspace where you can briefly keep information active while performing other operations on it."
   ]
  },
  {
   "cell_type": "code",
   "execution_count": null,
   "metadata": {},
   "outputs": [],
   "source": [
    "https://chat-ai.hari.pitt.edu/c/b5787199-4612-4973-add3-182bf36d98eb\n"
   ]
  },
  {
   "cell_type": "markdown",
   "metadata": {},
   "source": [
    "### Long term memory & Short term memory\n",
    "\n",
    "<img src=\"../public/calm-memory.png\" width=800 height=800 >\n",
    "\n",
    "Use reasoning node to determine the necessarity of concluding a user query to long term memory and execute infering procedure if worthy."
   ]
  },
  {
   "cell_type": "code",
   "execution_count": 5,
   "metadata": {},
   "outputs": [
    {
     "name": "stdout",
     "output_type": "stream",
     "text": [
      "HUMAN: hello, what is my name ?\n",
      "<AI Internal>: Activate Memory System\n",
      "<AI Internal>: Pass\n",
      "HUMAN: my favorite food is fried chicken. But it could change\n",
      "<AI Internal>: Activate Memory System\n",
      "<AI Internal>: Classified as STM add to context\n",
      "<AI Internal>: The user's food preference is user's favorite food is fried chicken.\n",
      "AI: It’s wonderful that you enjoy fried chicken—it’s a classic comfort food! Since you mentioned your favorite food *could* change, I’d love to hear what other foods you’re curious about or if there’s a new dish you’ve tried recently. Exploring different flavors can be a joyful experience, especially when shared with others.  \n",
      "\n",
      "If you’d like, I could also share some caregiver-friendly meal ideas that are both nutritious and easy to prepare (since caregiving can make cooking challenging). Let me know how I can support you—whether it’s food-related or anything else on your mind.  \n",
      "\n",
      "For now, I’ll remember that fried chicken is your go-to favorite! 🍗💛  \n",
      "\n",
      "*(Gentle reminder: If you’re caring for someone with ADRD, soft, easy-to-eat versions of fried chicken—like baked or air-fried—might be a safer option to avoid choking hazards.)*\n",
      "--------------------------------\n",
      "HUMAN: what is my name and my favorite food ? give me a concise answer\n",
      "<AI Internal>: Activate Memory System\n",
      "<AI Internal>: Pass\n",
      "HUMAN: exit\n"
     ]
    }
   ],
   "source": [
    "from classes.Memory import BaseMemory, MemoryItem\n",
    "from function.mem_proc import memory_extract_decision, summarize_lstm_from_query\n",
    "from function.answer_generation import generate_answer_with_memory\n",
    "from function.vector_store import add_to_memory\n",
    "from langchain_core.messages import HumanMessage, AIMessage\n",
    "\n",
    "conversation = []\n",
    "stm_context = []\n",
    "\n",
    "while True:\n",
    "    # Get user input\n",
    "    query = input(\"User:\")\n",
    "    print(f\"HUMAN: {query}\")\n",
    "\n",
    "    # Exit the loop\n",
    "    if query.upper() == \"EXIT\":\n",
    "        break\n",
    "\n",
    "    conversation.append(HumanMessage(content=query))\n",
    "\n",
    "    isWorthy: bool = memory_extract_decision(query=query)  # noqa: N816\n",
    "    if isWorthy is True:\n",
    "        print(\"<AI Internal>: Activate Memory System\")\n",
    "\n",
    "        # Distill key information\n",
    "        summary: BaseMemory = summarize_lstm_from_query(query=query)\n",
    "\n",
    "        if summary.content and summary.type != \"N/A\":\n",
    "            print(\"<AI Internal>: Pass\")\n",
    "        \n",
    "            # Persis LTM / instruct following converstation if STM\n",
    "            memo = MemoryItem(\n",
    "                **summary.model_dump(),\n",
    "                user_id=\"drake\",\n",
    "                source=\"HUMAN\",\n",
    "            )\n",
    "\n",
    "            memo_sentence = memo.convert_to_sentence()\n",
    "\n",
    "            if memo.level == \"LTM\":\n",
    "                # TODO: add LTM to the vector store\n",
    "                res = add_to_memory(memo)\n",
    "                stm_context.append(memo_sentence)\n",
    "                if res is not None:\n",
    "                    print(f\"<AI Internal>: Memory persisted\")\n",
    "                pass\n",
    "            else:\n",
    "                print(f\"<AI Internal>: Classified as STM add to context\")\n",
    "                stm_context.append(memo_sentence)\n",
    "\n",
    "        print(f\"<AI Internal>: {memo_sentence}\")\n",
    "    else:\n",
    "        print(f\"<AI Internal>: Not worthy \")\n",
    "\n",
    "    answer: AIMessage = generate_answer_with_memory(\n",
    "        question=query,\n",
    "        ltm_context=[],\n",
    "        stm_context=stm_context,\n",
    "        conversation_history=conversation[-4:-1] if len(conversation) > 3 else conversation,\n",
    "    )\n",
    "\n",
    "    conversation.append(answer)\n",
    "\n",
    "    print(f\"AI: {answer.content}\")\n",
    "\n",
    "    print(\"--------------------------------\")\n"
   ]
  },
  {
   "cell_type": "code",
   "execution_count": 6,
   "metadata": {},
   "outputs": [
    {
     "name": "stdout",
     "output_type": "stream",
     "text": [
      "AI: Since we’ve just started our conversation and I don’t have any long-term memory or chat history to reference, I don’t yet know your name or favorite food. But I’d love to learn more about you! Could you share your name and your favorite food with me? That way, I can remember these details for our future conversations and make our interactions more personal and meaningful.  \n",
      "\n",
      "For example, you could say:  \n",
      "*\"My name is [Your Name], and I love [Your Favorite Food]!\"*  \n",
      "\n",
      "I’m here to listen and support you in any way I can. 💙\n"
     ]
    }
   ],
   "source": [
    "# New conversation without retrieval\n",
    "\n",
    "res = generate_answer_with_memory(\"what is my name and my favorite food so far ?\")\n",
    "\n",
    "print(f\"AI: {res.content}\")\n"
   ]
  },
  {
   "cell_type": "code",
   "execution_count": 7,
   "metadata": {},
   "outputs": [
    {
     "name": "stdout",
     "output_type": "stream",
     "text": [
      "<AI Internal>: Retrieved relevant memory: user's name is Drake\n",
      "<AI Internal>: Retrieved relevant memory: user's dad is experiencing increased forgetfulness.\n",
      "AI: Hello, Drake! Based on my long-term memory, I know your name is Drake, and you're caring for your dad who is experiencing increased forgetfulness—a situation that I know can be both challenging and emotionally heavy at times.  \n",
      "\n",
      "As for your favorite food, it seems we haven’t had the chance to discuss that yet. Would you like to share what you enjoy? I’d love to learn more about you so I can offer support that feels personal and meaningful.  \n",
      "\n",
      "How are you feeling today? Is there anything specific you’d like to talk about regarding your dad’s care or your own well-being? I’m here to listen and help.\n"
     ]
    }
   ],
   "source": [
    "# New converstation with retrieval\n",
    "\n",
    "\n",
    "from langchain_core.documents import Document\n",
    "from embedding.vector_store import recall_memory\n",
    "\n",
    "user_query = \"what is my name and my favorite food so far ?\"\n",
    "\n",
    "res: list[Document] = recall_memory(query=user_query, user_id=\"drake\")\n",
    "\n",
    "for item in res:\n",
    "    print(f\"<AI Internal>: Retrieved relevant memory: {item.page_content}\")\n",
    "\n",
    "answer = generate_answer_with_memory(\n",
    "    question=user_query,\n",
    "    ltm_context=res,\n",
    ")\n",
    "\n",
    "print(f\"AI: {answer.content}\")\n",
    "\n"
   ]
  },
  {
   "cell_type": "markdown",
   "metadata": {},
   "source": [
    "# Evaluation\n",
    "\n",
    "First, we will take a look at how smart the determination node is. That is to say, can LLM make right decision on whether or not this query contains valuable information  \n"
   ]
  },
  {
   "cell_type": "code",
   "execution_count": 12,
   "metadata": {},
   "outputs": [
    {
     "data": {
      "text/html": [
       "<div>\n",
       "<style scoped>\n",
       "    .dataframe tbody tr th:only-of-type {\n",
       "        vertical-align: middle;\n",
       "    }\n",
       "\n",
       "    .dataframe tbody tr th {\n",
       "        vertical-align: top;\n",
       "    }\n",
       "\n",
       "    .dataframe thead th {\n",
       "        text-align: right;\n",
       "    }\n",
       "</style>\n",
       "<table border=\"1\" class=\"dataframe\">\n",
       "  <thead>\n",
       "    <tr style=\"text-align: right;\">\n",
       "      <th></th>\n",
       "      <th>Question</th>\n",
       "      <th>C-worthy</th>\n",
       "      <th>T-Decision</th>\n",
       "      <th>C-Category</th>\n",
       "      <th>C-Conclusion</th>\n",
       "    </tr>\n",
       "  </thead>\n",
       "  <tbody>\n",
       "    <tr>\n",
       "      <th>0</th>\n",
       "      <td>Hi CaLM, I’m Michael Chen, a 49‑year‑old part‑...</td>\n",
       "      <td>True</td>\n",
       "      <td>True</td>\n",
       "      <td>BIO_INFO</td>\n",
       "      <td>NaN</td>\n",
       "    </tr>\n",
       "    <tr>\n",
       "      <th>1</th>\n",
       "      <td>My wife Jenna can only pitch in on weekends; h...</td>\n",
       "      <td>True</td>\n",
       "      <td>True</td>\n",
       "      <td>SOCIAL_CONNECTIONS</td>\n",
       "      <td>NaN</td>\n",
       "    </tr>\n",
       "    <tr>\n",
       "      <th>2</th>\n",
       "      <td>Robert usually grows restless around 7 p.m. he...</td>\n",
       "      <td>True</td>\n",
       "      <td>True</td>\n",
       "      <td>CARE_GIVING</td>\n",
       "      <td>NaN</td>\n",
       "    </tr>\n",
       "    <tr>\n",
       "      <th>3</th>\n",
       "      <td>Our daughter Emily lives in Boston; what are s...</td>\n",
       "      <td>True</td>\n",
       "      <td>True</td>\n",
       "      <td>SOCIAL_CONNECTIONS</td>\n",
       "      <td>NaN</td>\n",
       "    </tr>\n",
       "    <tr>\n",
       "      <th>4</th>\n",
       "      <td>I absorb info fastest in concise checklists—co...</td>\n",
       "      <td>True</td>\n",
       "      <td>True</td>\n",
       "      <td>PREFERENCES</td>\n",
       "      <td>NaN</td>\n",
       "    </tr>\n",
       "  </tbody>\n",
       "</table>\n",
       "</div>"
      ],
      "text/plain": [
       "                                            Question  C-worthy  T-Decision  \\\n",
       "0  Hi CaLM, I’m Michael Chen, a 49‑year‑old part‑...      True        True   \n",
       "1  My wife Jenna can only pitch in on weekends; h...      True        True   \n",
       "2  Robert usually grows restless around 7 p.m. he...      True        True   \n",
       "3  Our daughter Emily lives in Boston; what are s...      True        True   \n",
       "4  I absorb info fastest in concise checklists—co...      True        True   \n",
       "\n",
       "           C-Category  C-Conclusion  \n",
       "0            BIO_INFO           NaN  \n",
       "1  SOCIAL_CONNECTIONS           NaN  \n",
       "2         CARE_GIVING           NaN  \n",
       "3  SOCIAL_CONNECTIONS           NaN  \n",
       "4         PREFERENCES           NaN  "
      ]
     },
     "execution_count": 12,
     "metadata": {},
     "output_type": "execute_result"
    }
   ],
   "source": [
    "import pandas as pd\n",
    "\n",
    "df = pd.read_csv(\"data/memory_eval_dataset.csv\")\n",
    "\n",
    "df.head()\n"
   ]
  },
  {
   "cell_type": "code",
   "execution_count": 6,
   "metadata": {},
   "outputs": [
    {
     "name": "stderr",
     "output_type": "stream",
     "text": [
      "/tmp/ipykernel_1602099/1933774916.py:7: FutureWarning: Setting an item of incompatible dtype is deprecated and will raise an error in a future version of pandas. Value 'True' has dtype incompatible with float64, please explicitly cast to a compatible dtype first.\n",
      "  df.at[index, \"T-Decision\"] = res\n"
     ]
    },
    {
     "name": "stdout",
     "output_type": "stream",
     "text": [
      "Processed row 0: Hi CaLM, I’m Michael Chen, a 49‑year‑old part‑time... - Decision: True\n",
      "Processed row 1: My wife Jenna can only pitch in on weekends; how c... - Decision: True\n",
      "Processed row 2: Robert usually grows restless around 7 p.m. here i... - Decision: True\n",
      "Processed row 3: Our daughter Emily lives in Boston; what are some ... - Decision: True\n",
      "Processed row 4: I absorb info fastest in concise checklists—could ... - Decision: True\n",
      "Processed row 5: I unwind by strumming classic‑rock guitar for a fe... - Decision: True\n",
      "Processed row 6: I’ve started getting lower‑back pain from lifting ... - Decision: True\n",
      "Processed row 7: Our Labrador, Max, follows Dad everywhere—how migh... - Decision: True\n",
      "Processed row 8: I mainly use an iPhone 15—can you walk me through ... - Decision: True\n",
      "Processed row 9: I often second‑guess my decisions for Dad—could yo... - Decision: True\n",
      "Processed row 10: What evidence‑based strategies best reduce evening... - Decision: False\n",
      "Processed row 11: How long should a calming activity last to be effe... - Decision: True\n",
      "Processed row 12: Is there an ideal lighting setup that helps minimi... - Decision: True\n",
      "Processed row 13: When redirection fails, what’s the next safest ste... - Decision: False\n",
      "Processed row 14: Could melatonin supplements help with sleep distur... - Decision: False\n",
      "Processed row 15: How often should I revisit Dad’s care routine to b... - Decision: True\n",
      "Processed row 16: What early signs indicate that restlessness is tur... - Decision: True\n",
      "Processed row 17: Does aromatherapy—like lavender oil—have solid evi... - Decision: False\n",
      "Processed row 18: Which cognitive‑stimulation activities suit a mode... - Decision: True\n",
      "Processed row 19: Could you limit push notifications to daylight hou... - Decision: True\n"
     ]
    }
   ],
   "source": [
    "for index, row in df.iterrows():\n",
    "    query = row[\"Question\"]\n",
    "\n",
    "    res = memory_extract_decision(query=query)\n",
    "\n",
    "    # Update the T-Decision column with the result from memory_extract_decision\n",
    "    df.at[index, \"T-Decision\"] = res\n",
    "\n",
    "    # Print the current row to monitor progress\n",
    "    print(f\"Processed row {index}: {query[:50]}... - Decision: {res}\")\n",
    "\n",
    "df.to_csv(\"data/memory_eval_dataset.csv\", index=False)\n"
   ]
  },
  {
   "cell_type": "code",
   "execution_count": 15,
   "metadata": {},
   "outputs": [
    {
     "data": {
      "image/png": "[encoded data removed]",
      "text/plain": [
       "<Figure size 800x600 with 2 Axes>"
      ]
     },
     "metadata": {},
     "output_type": "display_data"
    },
    {
     "name": "stdout",
     "output_type": "stream",
     "text": [
      "Accuracy: 0.8500\n",
      "Precision: 0.8000\n",
      "Recall: 1.0000\n",
      "F1 Score: 0.8889\n"
     ]
    }
   ],
   "source": [
    "import numpy as np\n",
    "import matplotlib.pyplot as plt\n",
    "from sklearn.metrics import confusion_matrix, ConfusionMatrixDisplay\n",
    "\n",
    "# Filter out rows where T-Decision is NaN\n",
    "filtered_df = df.dropna(subset=['T-Decision'])\n",
    "\n",
    "# Convert boolean values to integers for confusion matrix\n",
    "y_true = filtered_df['C-worthy'].astype(bool)\n",
    "y_pred = filtered_df['T-Decision'].astype(bool)\n",
    "\n",
    "# Create confusion matrix\n",
    "cm = confusion_matrix(y_true, y_pred)\n",
    "\n",
    "# Display confusion matrix\n",
    "fig, ax = plt.subplots(figsize=(8, 6))\n",
    "disp = ConfusionMatrixDisplay(confusion_matrix=cm, display_labels=['Not C-worthy', 'C-worthy'])\n",
    "disp.plot(cmap='Blues', ax=ax)\n",
    "plt.title('Confusion Matrix: Ground Truth (C-worthy) vs. Model Decision (T-Decision)')\n",
    "plt.show()\n",
    "\n",
    "# Calculate accuracy, precision, recall, and F1 score\n",
    "tn, fp, fn, tp = cm.ravel()\n",
    "accuracy = (tp + tn) / (tp + tn + fp + fn)\n",
    "precision = tp / (tp + fp) if (tp + fp) > 0 else 0\n",
    "recall = tp / (tp + fn) if (tp + fn) > 0 else 0\n",
    "f1 = 2 * precision * recall / (precision + recall) if (precision + recall) > 0 else 0\n",
    "\n",
    "print(f\"Accuracy: {accuracy:.4f}\")\n",
    "print(f\"Precision: {precision:.4f}\")\n",
    "print(f\"Recall: {recall:.4f}\")\n",
    "print(f\"F1 Score: {f1:.4f}\")\n"
   ]
  }
 ],
 "metadata": {
  "kernelspec": {
   "display_name": ".venv",
   "language": "python",
   "name": "python3"
  },
  "language_info": {
   "codemirror_mode": {
    "name": "ipython",
    "version": 3
   },
   "file_extension": ".py",
   "mimetype": "text/x-python",
   "name": "python",
   "nbconvert_exporter": "python",
   "pygments_lexer": "ipython3",
   "version": "3.12.7"
  }
 },
 "nbformat": 4,
 "nbformat_minor": 2
}
